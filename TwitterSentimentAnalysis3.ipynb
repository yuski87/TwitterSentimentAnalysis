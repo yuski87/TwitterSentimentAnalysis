{
 "cells": [
  {
   "cell_type": "code",
   "execution_count": 2,
   "metadata": {},
   "outputs": [
    {
     "name": "stdout",
     "output_type": "stream",
     "text": [
      "0.0\n",
      "\n",
      "Negative\n"
     ]
    }
   ],
   "source": [
    "import tweepy\n",
    "from textblob import TextBlob\n",
    "\n",
    "# Step 1 - Authenticate\n",
    "consumer_key= 'uxa9SSZwhdhns2dZhscRvXQll'\n",
    "consumer_secret= 'aGBIg7970yXjnAiIqsYV3gSFENufOVHAD5iiOIp9il9C8c0jU8'\n",
    "\n",
    "access_token='567007241-aob9KK2OjqggWnk5ZfguJIuOAEex0JP9hEfuIMSg'\n",
    "access_token_secret='vAZuf03SKMaFtqGvRNNB50WMFycHATDsNBMTNfr7Ukzsu'\n",
    "\n",
    "auth = tweepy.OAuthHandler(consumer_key, consumer_secret)\n",
    "auth.set_access_token(access_token, access_token_secret)\n",
    "\n",
    "api = tweepy.API(auth)\n",
    "\n",
    "#Step 2 - Retrieve Tweets\n",
    "public_tweets = api.search(q=['CANDIDATE_NAME', 'DebatCapres2019'], count=100)\n",
    "\n",
    "all_polarity = 0\n",
    "for tweet in public_tweets:\n",
    "    print(tweet.text)\n",
    "#Step 3 - Perform Sentiment Analysis on Tweets\n",
    "    analysis = TextBlob(tweet.text)\n",
    "    an = analysis.translate(from_lang='id', to='en')\n",
    "    print(an.sentiment)\n",
    "    all_polarity += an.polarity\n",
    "\n",
    "    print(\"\")\n",
    "\n",
    "#Step 4 - To Check Positive or Negative Sentiment from Overall Tweets\n",
    "if (all_polarity/100 > 0):\n",
    "    print(all_polarity/100)\n",
    "    print(\"\")\n",
    "    print('Positive')\n",
    "else:\n",
    "    print(all_polarity/100)\n",
    "    print(\"\")\n",
    "    print(\"Negative\")"
   ]
  },
  {
   "cell_type": "code",
   "execution_count": null,
   "metadata": {},
   "outputs": [],
   "source": []
  }
 ],
 "metadata": {
  "kernelspec": {
   "display_name": "Python 3",
   "language": "python",
   "name": "python3"
  },
  "language_info": {
   "codemirror_mode": {
    "name": "ipython",
    "version": 3
   },
   "file_extension": ".py",
   "mimetype": "text/x-python",
   "name": "python",
   "nbconvert_exporter": "python",
   "pygments_lexer": "ipython3",
   "version": "3.7.6"
  }
 },
 "nbformat": 4,
 "nbformat_minor": 4
}
